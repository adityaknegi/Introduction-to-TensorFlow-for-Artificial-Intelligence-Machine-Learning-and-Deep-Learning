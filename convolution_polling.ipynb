{
 "cells": [
  {
   "cell_type": "code",
   "execution_count": 1,
   "metadata": {},
   "outputs": [],
   "source": [
    "import tensorflow as tf"
   ]
  },
  {
   "cell_type": "code",
   "execution_count": 2,
   "metadata": {},
   "outputs": [],
   "source": [
    "import matplotlib.pyplot as plt"
   ]
  },
  {
   "cell_type": "code",
   "execution_count": 3,
   "metadata": {},
   "outputs": [],
   "source": [
    "mniste = tf.keras.datasets.fashion_mnist"
   ]
  },
  {
   "cell_type": "code",
   "execution_count": 4,
   "metadata": {},
   "outputs": [],
   "source": [
    "(x_train,y_train),(x_test,y_test)=mniste.load_data()"
   ]
  },
  {
   "cell_type": "code",
   "execution_count": 5,
   "metadata": {},
   "outputs": [
    {
     "data": {
      "text/plain": [
       "<matplotlib.image.AxesImage at 0x215ac708470>"
      ]
     },
     "execution_count": 5,
     "metadata": {},
     "output_type": "execute_result"
    },
    {
     "data": {
      "image/png": "[encoded data removed]",
      "text/plain": [
       "<Figure size 432x288 with 1 Axes>"
      ]
     },
     "metadata": {
      "needs_background": "light"
     },
     "output_type": "display_data"
    }
   ],
   "source": [
    "plt.imshow(x_train[10])"
   ]
  },
  {
   "cell_type": "markdown",
   "metadata": {},
   "source": [
    "# two times convolution and pooling "
   ]
  },
  {
   "cell_type": "code",
   "execution_count": 27,
   "metadata": {
    "scrolled": true
   },
   "outputs": [
    {
     "name": "stdout",
     "output_type": "stream",
     "text": [
      "_________________________________________________________________\n",
      "Layer (type)                 Output Shape              Param #   \n",
      "=================================================================\n",
      "conv2d_22 (Conv2D)           (None, 26, 26, 64)        640       \n",
      "_________________________________________________________________\n",
      "max_pooling2d_22 (MaxPooling (None, 13, 13, 64)        0         \n",
      "_________________________________________________________________\n",
      "conv2d_23 (Conv2D)           (None, 11, 11, 64)        36928     \n",
      "_________________________________________________________________\n",
      "max_pooling2d_23 (MaxPooling (None, 5, 5, 64)          0         \n",
      "_________________________________________________________________\n",
      "flatten_11 (Flatten)         (None, 1600)              0         \n",
      "_________________________________________________________________\n",
      "dense_22 (Dense)             (None, 125)               200125    \n",
      "_________________________________________________________________\n",
      "dense_23 (Dense)             (None, 10)                1260      \n",
      "=================================================================\n",
      "Total params: 238,953\n",
      "Trainable params: 238,953\n",
      "Non-trainable params: 0\n",
      "_________________________________________________________________\n",
      "Epoch 1/10\n",
      "60000/60000 [==============================] - 15s 243us/sample - loss: 0.4385 - acc: 0.8408\n",
      "Epoch 2/10\n",
      "60000/60000 [==============================] - 12s 208us/sample - loss: 0.2927 - acc: 0.8920\n",
      "Epoch 3/10\n",
      "60000/60000 [==============================] - 12s 203us/sample - loss: 0.2462 - acc: 0.9087\n",
      "Epoch 4/10\n",
      "60000/60000 [==============================] - 12s 205us/sample - loss: 0.2156 - acc: 0.9198\n",
      "Epoch 5/10\n",
      "60000/60000 [==============================] - 12s 203us/sample - loss: 0.1897 - acc: 0.9287\n",
      "Epoch 6/10\n",
      "60000/60000 [==============================] - 12s 204us/sample - loss: 0.1669 - acc: 0.9373\n",
      "Epoch 7/10\n",
      "60000/60000 [==============================] - 12s 203us/sample - loss: 0.1459 - acc: 0.9446\n",
      "Epoch 8/10\n",
      "60000/60000 [==============================] - 12s 204us/sample - loss: 0.1283 - acc: 0.9515\n",
      "Epoch 9/10\n",
      "60000/60000 [==============================] - 12s 202us/sample - loss: 0.1117 - acc: 0.9576\n",
      "Epoch 10/10\n",
      "60000/60000 [==============================] - 12s 204us/sample - loss: 0.0990 - acc: 0.9629\n",
      "10000/10000 [==============================] - 1s 135us/sample - loss: 0.3059 - acc: 0.9053\n"
     ]
    },
    {
     "data": {
      "text/plain": [
       "[0.3059297052145004, 0.9053]"
      ]
     },
     "execution_count": 27,
     "metadata": {},
     "output_type": "execute_result"
    }
   ],
   "source": [
    "\n",
    "class mycallback(tf.keras.callbacks.Callback):\n",
    "    def on_epoch_end(self,epochs,log={}):\n",
    "        if(log.get('acc')>0.99):\n",
    "            print('accu more then 99%')\n",
    "            self.model.stop_training=True\n",
    "\n",
    "callback =mycallback()\n",
    "mniste = tf.keras.datasets.fashion_mnist\n",
    "(x_train,y_train),(x_test,y_test)=mniste.load_data()\n",
    "#irst convolution expects a single tensor containing everything\n",
    "x_train =x_train.reshape(60000,28,28,1)\n",
    "x_test =x_test.reshape(10000,28,28,1)\n",
    "x_train=x_train/255.0\n",
    "x_test=x_test/255.0\n",
    "\n",
    "model = tf.keras.models.Sequential(layers=[\n",
    "    #convolution \n",
    "    tf.keras.layers.Conv2D(filters=64,kernel_size=(3,3),activation=tf.nn.relu,input_shape=(28,28,1)),\n",
    "    tf.keras.layers.MaxPool2D(2,2),\n",
    "    tf.keras.layers.Conv2D(filters=64,kernel_size=(3,3),activation=tf.nn.relu),\n",
    "    tf.keras.layers.MaxPool2D(2,2),\n",
    "    \n",
    "    # feed data to neural network\n",
    "    tf.keras.layers.Flatten(),\n",
    "    tf.keras.layers.Dense(units=128,activation=tf.nn.relu),\n",
    "    tf.keras.layers.Dense(units=10,activation=tf.nn.softmax)\n",
    "])\n",
    "model.summary()\n",
    "model.compile(optimizer='adam',loss='sparse_categorical_crossentropy',metrics=['accuracy'])\n",
    "model.fit(x_train,y_train,epochs=10,callbacks =[callback])\n",
    "model.evaluate(x_test,y_test)"
   ]
  },
  {
   "cell_type": "code",
   "execution_count": 104,
   "metadata": {},
   "outputs": [
    {
     "name": "stdout",
     "output_type": "stream",
     "text": [
      "60000/60000 [==============================] - 6s 97us/sample - loss: 0.0890 - acc: 0.9668\n"
     ]
    },
    {
     "data": {
      "text/plain": [
       "[0.08895509006952246, 0.96685]"
      ]
     },
     "execution_count": 104,
     "metadata": {},
     "output_type": "execute_result"
    }
   ],
   "source": [
    "model.evaluate(x_train,y_train)"
   ]
  },
  {
   "cell_type": "code",
   "execution_count": 103,
   "metadata": {},
   "outputs": [
    {
     "data": {
      "image/png": "[encoded data removed]",
      "text/plain": [
       "<Figure size 432x288 with 12 Axes>"
      ]
     },
     "metadata": {
      "needs_background": "light"
     },
     "output_type": "display_data"
    }
   ],
   "source": [
    "f, axarr = plt.subplots(3,4)\n",
    "FIRST_IMAGE=2\n",
    "SECOND_IMAGE=3\n",
    "THIRD_IMAGE=5\n",
    "CONVOLUTION_NUMBER = 5\n",
    "from tensorflow.keras import models\n",
    "layer_outputs = [layer.output for layer in model.layers]\n",
    "activation_model = tf.keras.models.Model(inputs = model.input, outputs = layer_outputs)\n",
    "for x in range(0,4):\n",
    "        f1 = activation_model.predict(x_test[FIRST_IMAGE].reshape(1, 28, 28, 1))[x]\n",
    "        axarr[0,x].imshow(f1[0, : , :, CONVOLUTION_NUMBER], cmap='inferno')\n",
    "        axarr[0,x].grid(False)\n",
    "        f2 = activation_model.predict(x_test[SECOND_IMAGE].reshape(1, 28, 28, 1))[x]\n",
    "        axarr[1,x].imshow(f2[0, : , :, CONVOLUTION_NUMBER], cmap='inferno')\n",
    "        axarr[1,x].grid(False)\n",
    "        f3 = activation_model.predict(x_test[THIRD_IMAGE].reshape(1, 28, 28, 1))[x]\n",
    "        axarr[2,x].imshow(f3[0, : , :, CONVOLUTION_NUMBER], cmap='inferno')\n",
    "        axarr[2,x].grid(False)"
   ]
  },
  {
   "cell_type": "code",
   "execution_count": 106,
   "metadata": {},
   "outputs": [],
   "source": [
    "# only one time convolution and pooling"
   ]
  },
  {
   "cell_type": "code",
   "execution_count": 110,
   "metadata": {},
   "outputs": [
    {
     "name": "stdout",
     "output_type": "stream",
     "text": [
      "_________________________________________________________________\n",
      "Layer (type)                 Output Shape              Param #   \n",
      "=================================================================\n",
      "conv2d_27 (Conv2D)           (None, 26, 26, 64)        640       \n",
      "_________________________________________________________________\n",
      "max_pooling2d_27 (MaxPooling (None, 13, 13, 64)        0         \n",
      "_________________________________________________________________\n",
      "flatten_15 (Flatten)         (None, 10816)             0         \n",
      "_________________________________________________________________\n",
      "dense_30 (Dense)             (None, 128)               1384576   \n",
      "_________________________________________________________________\n",
      "dense_31 (Dense)             (None, 10)                1290      \n",
      "=================================================================\n",
      "Total params: 1,386,506\n",
      "Trainable params: 1,386,506\n",
      "Non-trainable params: 0\n",
      "_________________________________________________________________\n",
      "Epoch 1/10\n",
      "60000/60000 [==============================] - 12s 194us/sample - loss: 0.1373 - acc: 0.9592\n",
      "Epoch 2/10\n",
      "60000/60000 [==============================] - 11s 191us/sample - loss: 0.0464 - acc: 0.9854\n",
      "Epoch 3/10\n",
      "60000/60000 [==============================] - 11s 189us/sample - loss: 0.0283 - acc: 0.9913\n",
      "Epoch 4/10\n",
      "60000/60000 [==============================] - 12s 195us/sample - loss: 0.0190 - acc: 0.9938\n",
      "Epoch 5/10\n",
      "60000/60000 [==============================] - 12s 194us/sample - loss: 0.0123 - acc: 0.9960\n",
      "Epoch 6/10\n",
      "60000/60000 [==============================] - 11s 188us/sample - loss: 0.0096 - acc: 0.9969\n",
      "Epoch 7/10\n",
      "60000/60000 [==============================] - 11s 191us/sample - loss: 0.0072 - acc: 0.9977\n",
      "Epoch 8/10\n",
      "60000/60000 [==============================] - 11s 188us/sample - loss: 0.0061 - acc: 0.9980\n",
      "Epoch 9/10\n",
      "59808/60000 [============================>.] - ETA: 0s - loss: 0.0055 - acc: 0.9982accu more then 998%\n",
      "60000/60000 [==============================] - 11s 190us/sample - loss: 0.0055 - acc: 0.9982\n",
      "10000/10000 [==============================] - 1s 91us/sample - loss: 0.0621 - acc: 0.9852\n"
     ]
    },
    {
     "data": {
      "text/plain": [
       "[0.06208210123038843, 0.9852]"
      ]
     },
     "execution_count": 110,
     "metadata": {},
     "output_type": "execute_result"
    }
   ],
   "source": [
    "\n",
    "class mycallback(tf.keras.callbacks.Callback):\n",
    "    def on_epoch_end(self,epochs,log={}):\n",
    "        if(log.get('acc')>0.998):\n",
    "            print('accu more then 99.8%')\n",
    "            self.model.stop_training=True\n",
    "\n",
    "callback =mycallback()\n",
    "mniste = tf.keras.datasets.mnist\n",
    "(x_train,y_train),(x_test,y_test)=mniste.load_data()\n",
    "#irst convolution expects a single tensor containing everything\n",
    "x_train =x_train.reshape(60000,28,28,1)\n",
    "x_test =x_test.reshape(10000,28,28,1)\n",
    "x_train=x_train/255.0\n",
    "x_test=x_test/255.0\n",
    "\n",
    "model = tf.keras.models.Sequential(layers=[\n",
    "    #convolution \n",
    "    tf.keras.layers.Conv2D(filters=64,kernel_size=(3,3),activation=tf.nn.relu,input_shape=(28,28,1)),\n",
    "    tf.keras.layers.MaxPool2D(2,2),\n",
    "   \n",
    "    \n",
    "    # feed data to neural network\n",
    "    tf.keras.layers.Flatten(),\n",
    "    tf.keras.layers.Dense(units=128,activation=tf.nn.relu),\n",
    "    tf.keras.layers.Dense(units=10,activation=tf.nn.softmax)\n",
    "])\n",
    "model.summary()\n",
    "model.compile(optimizer='adam',loss='sparse_categorical_crossentropy',metrics=['accuracy'])\n",
    "model.fit(x_train,y_train,epochs=10,callbacks =[callback])\n",
    "model.evaluate(x_test,y_test)"
   ]
  },
  {
   "cell_type": "code",
   "execution_count": null,
   "metadata": {},
   "outputs": [],
   "source": []
  }
 ],
 "metadata": {
  "kernelspec": {
   "display_name": "Python 3",
   "language": "python",
   "name": "python3"
  },
  "language_info": {
   "codemirror_mode": {
    "name": "ipython",
    "version": 3
   },
   "file_extension": ".py",
   "mimetype": "text/x-python",
   "name": "python",
   "nbconvert_exporter": "python",
   "pygments_lexer": "ipython3",
   "version": "3.7.1"
  }
 },
 "nbformat": 4,
 "nbformat_minor": 2
}
